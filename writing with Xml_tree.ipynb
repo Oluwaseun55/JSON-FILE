{
 "cells": [
  {
   "cell_type": "markdown",
   "id": "7bd0bf1d-ef0e-4dc4-9c06-871635a2c0d2",
   "metadata": {},
   "source": [
    "### Writing with xml.etree.ElementTree"
   ]
  },
  {
   "cell_type": "code",
   "execution_count": 5,
   "id": "0f353da5-0146-43a1-9e2b-a10f6876d295",
   "metadata": {},
   "outputs": [],
   "source": [
    "import xml.etree.ElementTree as ET\n"
   ]
  },
  {
   "cell_type": "code",
   "execution_count": 6,
   "id": "beb801ff-3040-42c3-8499-376d01414317",
   "metadata": {},
   "outputs": [],
   "source": [
    "employee = ET.Element('employee')\n",
    "details = ET.SubElement(employee, 'details')\n",
    "first = ET.SubElement(details, 'firstname')\n",
    "second = ET.SubElement(details, 'lastname')\n",
    "third = ET.SubElement(details, 'age')\n",
    "first.text = 'shiv'\n",
    "second.text = 'abedinigo'\n",
    "third.text = '23'\n",
    "\n",
    "mydata1 = ET.ElementTree(employee)\n",
    "with open(\"new_sample.xml\", \"wb\") as files:\n",
    "    mydata1.write(files)"
   ]
  },
  {
   "cell_type": "code",
   "execution_count": null,
   "id": "95cfcc69-b8c2-4ecb-8e3b-e4c9eae0d491",
   "metadata": {},
   "outputs": [],
   "source": []
  }
 ],
 "metadata": {
  "kernelspec": {
   "display_name": "Python 3 (ipykernel)",
   "language": "python",
   "name": "python3"
  },
  "language_info": {
   "codemirror_mode": {
    "name": "ipython",
    "version": 3
   },
   "file_extension": ".py",
   "mimetype": "text/x-python",
   "name": "python",
   "nbconvert_exporter": "python",
   "pygments_lexer": "ipython3",
   "version": "3.11.7"
  }
 },
 "nbformat": 4,
 "nbformat_minor": 5
}
