{
 "cells": [
  {
   "cell_type": "code",
   "execution_count": 3,
   "id": "82c210ac-b83d-45aa-9729-bff869ee737c",
   "metadata": {},
   "outputs": [],
   "source": [
    "import json\n",
    "person = {\n",
    "    'first_name' : 'Mark',\n",
    "    'last_name' : 'Jonatan',\n",
    "    'age': 28,\n",
    "    'address': {\n",
    "        \"streetAddress\": \"21 2nd street\",\n",
    "        \"city\": \"New York\",\n",
    "        \"state\": \"Nigeria\",\n",
    "        \"postalCode\": \"200-60\"\n",
    "    }\n",
    "}  \n",
    "    "
   ]
  },
  {
   "cell_type": "markdown",
   "id": "fc658f98-d102-4883-ba60-b2b1a474a955",
   "metadata": {},
   "source": [
    "#### serialization using dump() function\n",
    "**json.dump() method can be used for writing to JSON file**\n",
    "\n",
    "syntax :json.dump(dict, file_pointer)\n",
    "\n",
    "parameters:\n",
    "1.  **dictionary** – name of the dictionary which should be converted to JSON object.\n",
    "2.  **file pointer** – pointer of the file opened in write or append mode.\n",
    "\n"
   ]
  },
  {
   "cell_type": "code",
   "execution_count": 4,
   "id": "110a7fb7-d468-410b-befa-95d44ec5c0ce",
   "metadata": {},
   "outputs": [],
   "source": [
    "with open('person.json', 'w') as f:\n",
    "    json.dump(person, f)\n",
    "    "
   ]
  },
  {
   "cell_type": "markdown",
   "id": "db4515de-81ed-4a34-a275-60d0412bd384",
   "metadata": {},
   "source": [
    "### serialization using dumps() function\n",
    "**json.dumps()** that helps in converting a dictionary to a JSON object.\n",
    "It takes two parameters:\n",
    "1.  **dictionary** – name of the dictionary which should be converted to JSON object.\n",
    "2.  **indent** – defines the number of units for indentation"
   ]
  },
  {
   "cell_type": "code",
   "execution_count": 6,
   "id": "d66dde67-a68f-4e1a-be0a-565744999bf2",
   "metadata": {},
   "outputs": [
    {
     "name": "stdout",
     "output_type": "stream",
     "text": [
      "{\n",
      "    \"first_name\": \"Mark\",\n",
      "    \"last_name\": \"Jonatan\",\n",
      "    \"age\": 28,\n",
      "    \"address\": {\n",
      "        \"streetAddress\": \"21 2nd street\",\n",
      "        \"city\": \"New York\",\n",
      "        \"state\": \"Nigeria\",\n",
      "        \"postalCode\": \"200-60\"\n",
      "    }\n",
      "}\n"
     ]
    }
   ],
   "source": [
    "json_object = json.dumps(person, indent = 4)\n",
    "with open(\"sample.json\", \"w\") as outfile:\n",
    "    outfile.write(json_object)\n",
    "    print(json_object)"
   ]
  },
  {
   "cell_type": "markdown",
   "id": "f5280317-d15a-45d9-899d-a5d2a32f5cdd",
   "metadata": {},
   "source": [
    "### Using json.load()\n",
    "\n",
    "The JSON package has json.load() function that loads the json content from a json file into a dictionary.\n",
    "\n",
    "It takes one parameter:\n",
    "\n",
    "**File pointer** : A file pointer that points to a JSON file.\n"
   ]
  },
  {
   "cell_type": "code",
   "execution_count": 8,
   "id": "9d3e06f9-6809-4a7a-870f-5c2d6c1f72ac",
   "metadata": {},
   "outputs": [
    {
     "name": "stdout",
     "output_type": "stream",
     "text": [
      "{'first_name': 'Mark', 'last_name': 'Jonatan', 'age': 28, 'address': {'streetAddress': '21 2nd street', 'city': 'New York', 'state': 'Nigeria', 'postalCode': '200-60'}}\n"
     ]
    }
   ],
   "source": [
    "import json\n",
    "with open('sample.json', 'r') as openfile:\n",
    "    json_object = json.load(openfile)\n",
    "    print(json_object)"
   ]
  },
  {
   "cell_type": "code",
   "execution_count": null,
   "id": "423bad19-66b5-4d35-b65b-1487bf6c56d0",
   "metadata": {},
   "outputs": [],
   "source": []
  }
 ],
 "metadata": {
  "kernelspec": {
   "display_name": "Python 3 (ipykernel)",
   "language": "python",
   "name": "python3"
  },
  "language_info": {
   "codemirror_mode": {
    "name": "ipython",
    "version": 3
   },
   "file_extension": ".py",
   "mimetype": "text/x-python",
   "name": "python",
   "nbconvert_exporter": "python",
   "pygments_lexer": "ipython3",
   "version": "3.11.7"
  }
 },
 "nbformat": 4,
 "nbformat_minor": 5
}
